{
 "cells": [
  {
   "cell_type": "code",
   "execution_count": null,
   "id": "ec7f0f15-af6b-4d58-b2d7-a1f6c0971cdf",
   "metadata": {},
   "outputs": [],
   "source": [
    "import os\n",
    "import torch\n",
    "from torch.utils.data import DataLoader\n",
    "from torchvision import datasets, transforms\n",
    "from torchinfo import summary\n",
    "import time\n",
    "import numpy as np"
   ]
  },
  {
   "cell_type": "code",
   "execution_count": null,
   "id": "fbb6e9d5-b467-4182-98af-bda01f7a7897",
   "metadata": {},
   "outputs": [],
   "source": [
    "import joblib\n",
    "import torch\n",
    "\n",
    "model_path = \"models/xgb_model_100.pth\"\n",
    "model = joblib.load(model_path)  # ✅ joblib for sklearn model\n",
    "print(model)                        # Show model structure\n",
    "print(model.estimators_)           # Access individual regressors\n",
    "print(model.get_params())          # Get hyperparameters"
   ]
  },
  {
   "cell_type": "code",
   "execution_count": null,
   "id": "2d161f03-64fa-4ea8-99be-ec902fd79c74",
   "metadata": {},
   "outputs": [],
   "source": [
    " import pandas as pd\n",
    "import torch\n",
    "from torch.utils.data import TensorDataset, DataLoader\n",
    "import glob\n",
    "\n",
    "# Use glob to match all CSV files in the evaluation directory\n",
    "csv_files = sorted(glob.glob(\"object/nyc_taxi_split/eval/final_features_*.csv\"))\n",
    "\n",
    "# Load and concatenate all matched CSVs\n",
    "dfs = [pd.read_csv(f) for f in csv_files]\n",
    "test_df = pd.concat(dfs, ignore_index=True)\n",
    "\n",
    "# Extract features and targets\n",
    "target_cols = [\"pickup_count\", \"dropoff_count\"]\n",
    "X = test_df.drop(columns=target_cols).values\n",
    "y = test_df[target_cols].values\n",
    "\n",
    "# Convert to tensors\n",
    "X_tensor = torch.tensor(X, dtype=torch.float32)\n",
    "y_tensor = torch.tensor(y, dtype=torch.float32)\n",
    "\n",
    "# Wrap in dataset and loader\n",
    "test_dataset = TensorDataset(X_tensor, y_tensor)\n",
    "test_loader = DataLoader(test_dataset, batch_size=64, shuffle=False)"
   ]
  },
  {
   "cell_type": "code",
   "execution_count": null,
   "id": "c8182d02-13d8-40fd-b988-9d97b84f1fc4",
   "metadata": {},
   "outputs": [],
   "source": [
    "model_size = os.path.getsize(model_path) \n",
    "print(f\"Model Size on Disk: {model_size/ (1e6) :.2f} MB\")"
   ]
  },
  {
   "cell_type": "code",
   "execution_count": null,
   "id": "e6cb2177-7824-4350-b3da-ea34905eeea1",
   "metadata": {},
   "outputs": [],
   "source": [
    "import torch\n",
    "import numpy as np\n",
    "from sklearn.metrics import mean_absolute_error, mean_squared_error, r2_score\n",
    "\n",
    "all_preds = []\n",
    "all_labels = []\n",
    "\n",
    "# No gradients needed\n",
    "with torch.no_grad():\n",
    "    for features, labels in test_loader:\n",
    "        preds = model.predict(features.numpy())  # model is scikit-learn, so use .predict()\n",
    "        all_preds.append(preds)\n",
    "        all_labels.append(labels.numpy())\n",
    "\n",
    "# Concatenate all batches\n",
    "all_preds = np.vstack(all_preds)\n",
    "all_labels = np.vstack(all_labels)\n",
    "\n",
    "# MAE\n",
    "mae = mean_absolute_error(all_labels, all_preds)\n",
    "\n",
    "# RMSE (manual square root)\n",
    "rmse = np.sqrt(mean_squared_error(all_labels, all_preds))\n",
    "\n",
    "# R²\n",
    "r2 = r2_score(all_labels, all_preds)\n",
    "\n",
    "print(f\"MAE: {mae:.2f}\")\n",
    "print(f\"RMSE: {rmse:.2f}\")\n",
    "print(f\"R² Score: {r2:.3f}\")"
   ]
  },
  {
   "cell_type": "code",
   "execution_count": null,
   "id": "47f7383b-4ede-413c-9954-f8f7173a0681",
   "metadata": {},
   "outputs": [],
   "source": [
    "import time\n",
    "import numpy as np\n",
    "\n",
    "num_trials = 100  # Number of trials\n",
    "\n",
    "# Get a single sample from the test data\n",
    "single_sample, _ = next(iter(test_loader))\n",
    "single_sample = single_sample[0].numpy().reshape(1, -1)  # Convert to 2D NumPy array\n",
    "\n",
    "# Warm-up run\n",
    "_ = model.predict(single_sample)\n",
    "\n",
    "latencies = []\n",
    "for _ in range(num_trials):\n",
    "    start_time = time.time()\n",
    "    _ = model.predict(single_sample)\n",
    "    latencies.append(time.time() - start_time)\n",
    "\n",
    "# Output latency statistics\n",
    "print(f\"Average latency: {np.mean(latencies) * 1000:.2f} ms\")\n",
    "print(f\"Min latency: {np.min(latencies) * 1000:.2f} ms\")\n",
    "print(f\"Max latency: {np.max(latencies) * 1000:.2f} ms\")"
   ]
  },
  {
   "cell_type": "code",
   "execution_count": null,
   "id": "b199fd5b-ebc0-4920-99ca-f86d0abf272f",
   "metadata": {},
   "outputs": [],
   "source": [
    "import time\n",
    "import numpy as np\n",
    "\n",
    "batch_times = []\n",
    "total_samples = 0\n",
    "\n",
    "for batch in test_loader:\n",
    "    X_batch, _ = batch\n",
    "    X_np = X_batch.numpy()\n",
    "\n",
    "    start_time = time.time()\n",
    "    _ = model.predict(X_np)\n",
    "    end_time = time.time()\n",
    "\n",
    "    batch_times.append(end_time - start_time)\n",
    "    total_samples += X_np.shape[0]\n",
    "\n",
    "# Calculate throughput\n",
    "batch_fps = total_samples / np.sum(batch_times)\n",
    "print(f\"Batch Throughput: {batch_fps:.2f} samples/sec\")"
   ]
  },
  {
   "cell_type": "code",
   "execution_count": null,
   "id": "75956c4c-21cb-4fc5-9b89-d16546f396ca",
   "metadata": {},
   "outputs": [],
   "source": [
    "print(f\"Model Size on Disk: {model_size / 1e6:.2f} MB\")\n",
    "print(f\"MAE: {mae:.2f}\")\n",
    "print(f\"RMSE: {rmse:.2f}\")\n",
    "print(f\"R² Score: {r2:.3f}\")\n",
    "print(f\"Inference Latency (single sample, median): {np.percentile(latencies, 50) * 1000:.2f} ms\")\n",
    "print(f\"Inference Latency (single sample, 95th percentile): {np.percentile(latencies, 95) * 1000:.2f} ms\")\n",
    "print(f\"Inference Latency (single sample, 99th percentile): {np.percentile(latencies, 99) * 1000:.2f} ms\")\n",
    "print(f\"Inference Throughput (single sample): {num_trials / np.sum(latencies):.2f} samples/sec\")\n",
    "print(f\"Batch Throughput: {batch_fps:.2f} samples/sec\")"
   ]
  },
  {
   "cell_type": "code",
   "execution_count": null,
   "id": "98049a51-9d7a-4ae7-91d5-962dc4675122",
   "metadata": {},
   "outputs": [],
   "source": []
  }
 ],
 "metadata": {
  "kernelspec": {
   "display_name": "Python 3 (ipykernel)",
   "language": "python",
   "name": "python3"
  },
  "language_info": {
   "codemirror_mode": {
    "name": "ipython",
    "version": 3
   },
   "file_extension": ".py",
   "mimetype": "text/x-python",
   "name": "python",
   "nbconvert_exporter": "python",
   "pygments_lexer": "ipython3",
   "version": "3.12.8"
  }
 },
 "nbformat": 4,
 "nbformat_minor": 5
}
