{
  "cells": [
    {
      "cell_type": "code",
      "execution_count": null,
      "id": "9d47924f-2776-49bd-9c0d-0801c2f08c2f",
      "metadata": {
        "tags": [],
        "id": "9d47924f-2776-49bd-9c0d-0801c2f08c2f"
      },
      "outputs": [],
      "source": [
        "from chi import server, context\n",
        "import chi, os, time, datetime\n",
        "\n",
        "context.version = \"1.0\"\n",
        "context.choose_project()\n",
        "context.choose_site(default=\"KVM@TACC\")"
      ]
    },
    {
      "cell_type": "code",
      "execution_count": null,
      "id": "8cf65d93-5822-4c47-9dfe-c39883bd2e06",
      "metadata": {
        "tags": [],
        "id": "8cf65d93-5822-4c47-9dfe-c39883bd2e06"
      },
      "outputs": [],
      "source": [
        "username = os.getenv('USER') # all exp resources will have this prefix\n",
        "s = server.Server(\n",
        "    f\"node-persist-{username}\",\n",
        "    image_name=\"CC-Ubuntu24.04\",\n",
        "    flavor_name=\"m1.large\"\n",
        ")\n",
        "s.submit(idempotent=True)"
      ]
    },
    {
      "cell_type": "code",
      "execution_count": null,
      "id": "286b268c-7643-4f07-90d1-55844362f6b0",
      "metadata": {
        "tags": [],
        "id": "286b268c-7643-4f07-90d1-55844362f6b0"
      },
      "outputs": [],
      "source": [
        "s.associate_floating_ip()"
      ]
    },
    {
      "cell_type": "code",
      "execution_count": null,
      "id": "985606ff-f002-480a-9ab6-3b88b960d4be",
      "metadata": {
        "tags": [],
        "id": "985606ff-f002-480a-9ab6-3b88b960d4be"
      },
      "outputs": [],
      "source": [
        "s.refresh()\n",
        "s.check_connectivity()"
      ]
    },
    {
      "cell_type": "code",
      "execution_count": null,
      "id": "a9fe5f1a-c170-4efa-87ec-da60da627915",
      "metadata": {
        "tags": [],
        "id": "a9fe5f1a-c170-4efa-87ec-da60da627915"
      },
      "outputs": [],
      "source": [
        "s.refresh()\n",
        "s.show(type=\"widget\")"
      ]
    },
    {
      "cell_type": "code",
      "execution_count": null,
      "id": "feab7e55-0cc2-449e-b83e-60519335b52d",
      "metadata": {
        "tags": [],
        "id": "feab7e55-0cc2-449e-b83e-60519335b52d"
      },
      "outputs": [],
      "source": [
        "security_groups = [\n",
        "  {'name': \"allow-ssh\", 'port': 22, 'description': \"Enable SSH traffic on TCP port 22\"},\n",
        "  {'name': \"allow-8888\", 'port': 8888, 'description': \"Enable TCP port 8888 (used by Jupyter)\"},\n",
        "  {'name': \"allow-8000\", 'port': 8000, 'description': \"Enable TCP port 8000 (used by MLFlow)\"},\n",
        "  {'name': \"allow-9000\", 'port': 9000, 'description': \"Enable TCP port 9000 (used by MinIO API)\"},\n",
        "  {'name': \"allow-9001\", 'port': 9001, 'description': \"Enable TCP port 9001 (used by MinIO Web UI)\"}\n",
        "]"
      ]
    },
    {
      "cell_type": "code",
      "execution_count": null,
      "id": "c7484287-b0aa-426f-9d4e-3b40544bb14b",
      "metadata": {
        "tags": [],
        "id": "c7484287-b0aa-426f-9d4e-3b40544bb14b"
      },
      "outputs": [],
      "source": [
        "os_conn = chi.clients.connection()\n",
        "nova_server = chi.nova().servers.get(s.id)\n",
        "\n",
        "for sg in security_groups:\n",
        "\n",
        "  if not os_conn.get_security_group(sg['name']):\n",
        "      os_conn.create_security_group(sg['name'], sg['description'])\n",
        "      os_conn.create_security_group_rule(sg['name'], port_range_min=sg['port'], port_range_max=sg['port'], protocol='tcp', remote_ip_prefix='0.0.0.0/0')\n",
        "\n",
        "  nova_server.add_security_group(sg['name'])\n",
        "\n",
        "print(f\"updated security groups: {[group.name for group in nova_server.list_security_group()]}\")"
      ]
    },
    {
      "cell_type": "code",
      "execution_count": null,
      "id": "4b95a341-aeae-49c8-a639-4ffbba5c6584",
      "metadata": {
        "tags": [],
        "id": "4b95a341-aeae-49c8-a639-4ffbba5c6584"
      },
      "outputs": [],
      "source": [
        "s.execute(\"git clone https://github.com/Jex2l/NYC-Taxi-Demand-Prediction-with-Weather-and-Flight-Data-Integration.git\")"
      ]
    },
    {
      "cell_type": "code",
      "execution_count": null,
      "id": "55b3978d-5852-4638-a8ea-ccdb4610ded7",
      "metadata": {
        "tags": [],
        "id": "55b3978d-5852-4638-a8ea-ccdb4610ded7"
      },
      "outputs": [],
      "source": [
        "s.execute(\"curl -sSL https://get.docker.com/ | sudo sh\")\n",
        "s.execute(\"sudo groupadd -f docker; sudo usermod -aG docker $USER\")"
      ]
    },
    {
      "cell_type": "code",
      "execution_count": null,
      "id": "7845820c-6fed-403d-9307-e09c520c81b0",
      "metadata": {
        "id": "7845820c-6fed-403d-9307-e09c520c81b0"
      },
      "outputs": [],
      "source": []
    }
  ],
  "metadata": {
    "kernelspec": {
      "display_name": "Python 3 (ipykernel)",
      "language": "python",
      "name": "python3"
    },
    "language_info": {
      "codemirror_mode": {
        "name": "ipython",
        "version": 3
      },
      "file_extension": ".py",
      "mimetype": "text/x-python",
      "name": "python",
      "nbconvert_exporter": "python",
      "pygments_lexer": "ipython3",
      "version": "3.10.9"
    },
    "colab": {
      "provenance": []
    }
  },
  "nbformat": 4,
  "nbformat_minor": 5
}